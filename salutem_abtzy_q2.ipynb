{
 "cells": [
  {
   "cell_type": "markdown",
   "id": "0a527a1b",
   "metadata": {},
   "source": [
    "## Libraries"
   ]
  },
  {
   "cell_type": "code",
   "execution_count": 1,
   "id": "d44e570c",
   "metadata": {},
   "outputs": [],
   "source": [
    "import numpy as np\n",
    "import pandas as pd\n",
    "import pandas_datareader as pdd\n",
    "import math\n",
    "import seaborn as sns\n",
    "import datetime as dt\n",
    "from datetime import datetime\n",
    "from pandas.plotting import autocorrelation_plot\n",
    "import matplotlib.pyplot as plt"
   ]
  },
  {
   "cell_type": "markdown",
   "id": "5d0495f5",
   "metadata": {},
   "source": [
    "## Load Data"
   ]
  },
  {
   "cell_type": "code",
   "execution_count": 15,
   "id": "b3cc6641",
   "metadata": {},
   "outputs": [
    {
     "data": {
      "text/html": [
       "<div>\n",
       "<style scoped>\n",
       "    .dataframe tbody tr th:only-of-type {\n",
       "        vertical-align: middle;\n",
       "    }\n",
       "\n",
       "    .dataframe tbody tr th {\n",
       "        vertical-align: top;\n",
       "    }\n",
       "\n",
       "    .dataframe thead th {\n",
       "        text-align: right;\n",
       "    }\n",
       "</style>\n",
       "<table border=\"1\" class=\"dataframe\">\n",
       "  <thead>\n",
       "    <tr style=\"text-align: right;\">\n",
       "      <th></th>\n",
       "      <th>High</th>\n",
       "      <th>Low</th>\n",
       "      <th>Open</th>\n",
       "      <th>Close</th>\n",
       "      <th>Volume</th>\n",
       "      <th>Adj Close</th>\n",
       "    </tr>\n",
       "    <tr>\n",
       "      <th>Date</th>\n",
       "      <th></th>\n",
       "      <th></th>\n",
       "      <th></th>\n",
       "      <th></th>\n",
       "      <th></th>\n",
       "      <th></th>\n",
       "    </tr>\n",
       "  </thead>\n",
       "  <tbody>\n",
       "    <tr>\n",
       "      <th>2019-12-31</th>\n",
       "      <td>11.06</td>\n",
       "      <td>11.06</td>\n",
       "      <td>11.06</td>\n",
       "      <td>11.06</td>\n",
       "      <td>0.0</td>\n",
       "      <td>10.25704</td>\n",
       "    </tr>\n",
       "    <tr>\n",
       "      <th>2020-01-02</th>\n",
       "      <td>11.06</td>\n",
       "      <td>11.06</td>\n",
       "      <td>11.06</td>\n",
       "      <td>11.06</td>\n",
       "      <td>0.0</td>\n",
       "      <td>10.25704</td>\n",
       "    </tr>\n",
       "    <tr>\n",
       "      <th>2020-01-03</th>\n",
       "      <td>11.06</td>\n",
       "      <td>11.06</td>\n",
       "      <td>11.06</td>\n",
       "      <td>11.06</td>\n",
       "      <td>0.0</td>\n",
       "      <td>10.25704</td>\n",
       "    </tr>\n",
       "    <tr>\n",
       "      <th>2020-01-06</th>\n",
       "      <td>11.06</td>\n",
       "      <td>11.06</td>\n",
       "      <td>11.06</td>\n",
       "      <td>11.06</td>\n",
       "      <td>0.0</td>\n",
       "      <td>10.25704</td>\n",
       "    </tr>\n",
       "    <tr>\n",
       "      <th>2020-01-07</th>\n",
       "      <td>11.06</td>\n",
       "      <td>11.06</td>\n",
       "      <td>11.06</td>\n",
       "      <td>11.06</td>\n",
       "      <td>0.0</td>\n",
       "      <td>10.25704</td>\n",
       "    </tr>\n",
       "    <tr>\n",
       "      <th>...</th>\n",
       "      <td>...</td>\n",
       "      <td>...</td>\n",
       "      <td>...</td>\n",
       "      <td>...</td>\n",
       "      <td>...</td>\n",
       "      <td>...</td>\n",
       "    </tr>\n",
       "    <tr>\n",
       "      <th>2022-10-11</th>\n",
       "      <td>9.73</td>\n",
       "      <td>9.73</td>\n",
       "      <td>9.73</td>\n",
       "      <td>9.73</td>\n",
       "      <td>0.0</td>\n",
       "      <td>9.73000</td>\n",
       "    </tr>\n",
       "    <tr>\n",
       "      <th>2022-10-12</th>\n",
       "      <td>9.73</td>\n",
       "      <td>9.73</td>\n",
       "      <td>9.73</td>\n",
       "      <td>9.73</td>\n",
       "      <td>0.0</td>\n",
       "      <td>9.73000</td>\n",
       "    </tr>\n",
       "    <tr>\n",
       "      <th>2022-10-13</th>\n",
       "      <td>9.73</td>\n",
       "      <td>9.73</td>\n",
       "      <td>9.73</td>\n",
       "      <td>9.73</td>\n",
       "      <td>0.0</td>\n",
       "      <td>9.73000</td>\n",
       "    </tr>\n",
       "    <tr>\n",
       "      <th>2022-10-14</th>\n",
       "      <td>9.73</td>\n",
       "      <td>9.73</td>\n",
       "      <td>9.73</td>\n",
       "      <td>9.73</td>\n",
       "      <td>0.0</td>\n",
       "      <td>9.73000</td>\n",
       "    </tr>\n",
       "    <tr>\n",
       "      <th>2022-10-17</th>\n",
       "      <td>9.73</td>\n",
       "      <td>9.73</td>\n",
       "      <td>9.73</td>\n",
       "      <td>9.73</td>\n",
       "      <td>0.0</td>\n",
       "      <td>9.73000</td>\n",
       "    </tr>\n",
       "  </tbody>\n",
       "</table>\n",
       "<p>705 rows × 6 columns</p>\n",
       "</div>"
      ],
      "text/plain": [
       "             High    Low   Open  Close  Volume  Adj Close\n",
       "Date                                                     \n",
       "2019-12-31  11.06  11.06  11.06  11.06     0.0   10.25704\n",
       "2020-01-02  11.06  11.06  11.06  11.06     0.0   10.25704\n",
       "2020-01-03  11.06  11.06  11.06  11.06     0.0   10.25704\n",
       "2020-01-06  11.06  11.06  11.06  11.06     0.0   10.25704\n",
       "2020-01-07  11.06  11.06  11.06  11.06     0.0   10.25704\n",
       "...           ...    ...    ...    ...     ...        ...\n",
       "2022-10-11   9.73   9.73   9.73   9.73     0.0    9.73000\n",
       "2022-10-12   9.73   9.73   9.73   9.73     0.0    9.73000\n",
       "2022-10-13   9.73   9.73   9.73   9.73     0.0    9.73000\n",
       "2022-10-14   9.73   9.73   9.73   9.73     0.0    9.73000\n",
       "2022-10-17   9.73   9.73   9.73   9.73     0.0    9.73000\n",
       "\n",
       "[705 rows x 6 columns]"
      ]
     },
     "execution_count": 15,
     "metadata": {},
     "output_type": "execute_result"
    }
   ],
   "source": [
    "abtzdt = pdd.DataReader('ABTZY', data_source='yahoo', start='2020-01-01', end = '2022-10-18')\n",
    "abtzdt"
   ]
  },
  {
   "cell_type": "markdown",
   "id": "dce8f180",
   "metadata": {},
   "source": [
    "##  Processing Data"
   ]
  },
  {
   "cell_type": "code",
   "execution_count": 16,
   "id": "25b953d1",
   "metadata": {},
   "outputs": [
    {
     "data": {
      "text/plain": [
       "<AxesSubplot:xlabel='Date'>"
      ]
     },
     "execution_count": 16,
     "metadata": {},
     "output_type": "execute_result"
    },
    {
     "data": {
      "image/png": "[encoded data removed]",
      "text/plain": [
       "<Figure size 640x480 with 1 Axes>"
      ]
     },
     "metadata": {},
     "output_type": "display_data"
    }
   ],
   "source": [
    "yAdjC = abtzdt['Adj Close'] # Visualization graph for year 2020 to 2022\n",
    "yAdjC.index=abtzdt.index\n",
    "yAdjC.plot()"
   ]
  },
  {
   "cell_type": "code",
   "execution_count": 4,
   "id": "8c223287",
   "metadata": {},
   "outputs": [
    {
     "data": {
      "text/html": [
       "<div>\n",
       "<style scoped>\n",
       "    .dataframe tbody tr th:only-of-type {\n",
       "        vertical-align: middle;\n",
       "    }\n",
       "\n",
       "    .dataframe tbody tr th {\n",
       "        vertical-align: top;\n",
       "    }\n",
       "\n",
       "    .dataframe thead th {\n",
       "        text-align: right;\n",
       "    }\n",
       "</style>\n",
       "<table border=\"1\" class=\"dataframe\">\n",
       "  <thead>\n",
       "    <tr style=\"text-align: right;\">\n",
       "      <th></th>\n",
       "      <th>High</th>\n",
       "      <th>Low</th>\n",
       "      <th>Open</th>\n",
       "      <th>Close</th>\n",
       "      <th>Volume</th>\n",
       "      <th>Adj Close</th>\n",
       "    </tr>\n",
       "  </thead>\n",
       "  <tbody>\n",
       "    <tr>\n",
       "      <th>0</th>\n",
       "      <td>11.06</td>\n",
       "      <td>11.06</td>\n",
       "      <td>11.06</td>\n",
       "      <td>11.06</td>\n",
       "      <td>0.0</td>\n",
       "      <td>10.25704</td>\n",
       "    </tr>\n",
       "    <tr>\n",
       "      <th>1</th>\n",
       "      <td>11.06</td>\n",
       "      <td>11.06</td>\n",
       "      <td>11.06</td>\n",
       "      <td>11.06</td>\n",
       "      <td>0.0</td>\n",
       "      <td>10.25704</td>\n",
       "    </tr>\n",
       "    <tr>\n",
       "      <th>2</th>\n",
       "      <td>11.06</td>\n",
       "      <td>11.06</td>\n",
       "      <td>11.06</td>\n",
       "      <td>11.06</td>\n",
       "      <td>0.0</td>\n",
       "      <td>10.25704</td>\n",
       "    </tr>\n",
       "    <tr>\n",
       "      <th>3</th>\n",
       "      <td>11.06</td>\n",
       "      <td>11.06</td>\n",
       "      <td>11.06</td>\n",
       "      <td>11.06</td>\n",
       "      <td>0.0</td>\n",
       "      <td>10.25704</td>\n",
       "    </tr>\n",
       "    <tr>\n",
       "      <th>4</th>\n",
       "      <td>11.06</td>\n",
       "      <td>11.06</td>\n",
       "      <td>11.06</td>\n",
       "      <td>11.06</td>\n",
       "      <td>0.0</td>\n",
       "      <td>10.25704</td>\n",
       "    </tr>\n",
       "  </tbody>\n",
       "</table>\n",
       "</div>"
      ],
      "text/plain": [
       "    High    Low   Open  Close  Volume  Adj Close\n",
       "0  11.06  11.06  11.06  11.06     0.0   10.25704\n",
       "1  11.06  11.06  11.06  11.06     0.0   10.25704\n",
       "2  11.06  11.06  11.06  11.06     0.0   10.25704\n",
       "3  11.06  11.06  11.06  11.06     0.0   10.25704\n",
       "4  11.06  11.06  11.06  11.06     0.0   10.25704"
      ]
     },
     "execution_count": 4,
     "metadata": {},
     "output_type": "execute_result"
    }
   ],
   "source": [
    "abtzdt.reset_index(drop=True, inplace=True)\n",
    "abtzdt.fillna(abtzdt.mean(), inplace=True)\n",
    "abtzdt.head()"
   ]
  },
  {
   "cell_type": "code",
   "execution_count": 5,
   "id": "d239e58d",
   "metadata": {},
   "outputs": [],
   "source": [
    "from sklearn.model_selection import train_test_split\n",
    "\n",
    "x = []\n",
    "y = []\n",
    "\n",
    "window_size = 100\n",
    "for i in range(1, len(abtzdt) - window_size - 1, 1):\n",
    "    first = abtzdt.iloc[i, 2]\n",
    "    temp = []\n",
    "    temp2 = []\n",
    "    for j in range(window_size):\n",
    "        temp.append((abtzdt.iloc[i + j, 2] - first / first))\n",
    "    temp2.append((abtzdt.iloc[i + window_size, 2] - first / first))\n",
    "    x.append(np.array(temp).reshape(100,1))\n",
    "    y.append(np.array(temp2).reshape(1,1))\n",
    "\n",
    "x_train, x_test, y_train, y_test = train_test_split(x, y, test_size=0.2,\n",
    "                                                    shuffle=True)\n",
    "\n",
    "train_x = np.array(x_train)\n",
    "test_x = np.array(x_test)\n",
    "train_y = np.array(y_train)\n",
    "test_y = np.array(y_test)\n",
    "\n",
    "train_x = train_x.reshape(train_x.shape[0],100,1)\n",
    "test_x = test_x.reshape(test_x.shape[0],100,1)\n",
    "train_y = train_y.reshape(train_y.shape[0])\n",
    "test_y = test_y.reshape(test_y.shape[0])"
   ]
  },
  {
   "cell_type": "markdown",
   "id": "e607545e",
   "metadata": {},
   "source": [
    "## Choosing Model"
   ]
  },
  {
   "cell_type": "code",
   "execution_count": 6,
   "id": "65eca750",
   "metadata": {
    "scrolled": false
   },
   "outputs": [
    {
     "name": "stdout",
     "output_type": "stream",
     "text": [
      "Model: \"sequential\"\n",
      "_________________________________________________________________\n",
      " Layer (type)                Output Shape              Param #   \n",
      "=================================================================\n",
      " conv1d (Conv1D)             (None, 98, 64)            256       \n",
      "                                                                 \n",
      " conv1d_1 (Conv1D)           (None, 96, 128)           24704     \n",
      "                                                                 \n",
      " conv1d_2 (Conv1D)           (None, 94, 64)            24640     \n",
      "                                                                 \n",
      " max_pooling1d (MaxPooling1D  (None, 47, 64)           0         \n",
      " )                                                               \n",
      "                                                                 \n",
      " bidirectional (Bidirectiona  (None, 200)              99600     \n",
      " l)                                                              \n",
      "                                                                 \n",
      " dropout (Dropout)           (None, 200)               0         \n",
      "                                                                 \n",
      " dense (Dense)               (None, 1)                 201       \n",
      "                                                                 \n",
      "=================================================================\n",
      "Total params: 149,401\n",
      "Trainable params: 149,401\n",
      "Non-trainable params: 0\n",
      "_________________________________________________________________\n"
     ]
    }
   ],
   "source": [
    "# Model Choose is One Dimension CNN and Bidirectional GRU\n",
    "import tensorflow as tf\n",
    "from tensorflow.keras.layers import Conv1D, GRU, Dense, Dropout, Bidirectional, TimeDistributed\n",
    "from tensorflow.keras.layers import MaxPooling1D, Flatten\n",
    "from tensorflow.keras.regularizers import L1, L2\n",
    "from tensorflow.keras.metrics import RootMeanSquaredError\n",
    "\n",
    "model = tf.keras.Sequential()\n",
    "\n",
    "model.add(Conv1D(64,kernel_size=3, activation='relu', input_shape=(100,1)))\n",
    "model.add(Conv1D(128,kernel_size=3, activation='relu'))\n",
    "model.add(Conv1D(64,kernel_size=3, activation='relu'))\n",
    "model.add(MaxPooling1D(2))\n",
    "\n",
    "# GRU layers\n",
    "model.add(Bidirectional(GRU(100, return_sequences=False)))\n",
    "model.add(Dropout(0.5))\n",
    "\n",
    "#Final layers\n",
    "model.add(Dense(1, activation='linear'))\n",
    "model.compile(optimizer='adam', loss='mse', metrics=['mse','mae'])\n",
    "\n",
    "model.summary()"
   ]
  },
  {
   "cell_type": "markdown",
   "id": "08a2aab5",
   "metadata": {},
   "source": [
    "## Training"
   ]
  },
  {
   "cell_type": "code",
   "execution_count": 7,
   "id": "6bbfab2e",
   "metadata": {},
   "outputs": [],
   "source": [
    "batch_size = 200\n",
    "buffer_size = 10000"
   ]
  },
  {
   "cell_type": "code",
   "execution_count": 8,
   "id": "0336e72a",
   "metadata": {
    "scrolled": true
   },
   "outputs": [
    {
     "name": "stdout",
     "output_type": "stream",
     "text": [
      "Epoch 1/20\n",
      "200/200 [==============================] - 34s 108ms/step - loss: 3.4369 - mse: 3.4369 - mae: 1.2896 - val_loss: 0.3007 - val_mse: 0.3007 - val_mae: 0.3896\n",
      "Epoch 2/20\n",
      "200/200 [==============================] - 18s 89ms/step - loss: 0.8773 - mse: 0.8773 - mae: 0.7338 - val_loss: 0.1499 - val_mse: 0.1499 - val_mae: 0.2036\n",
      "Epoch 3/20\n",
      "200/200 [==============================] - 16s 78ms/step - loss: 0.7192 - mse: 0.7192 - mae: 0.6646 - val_loss: 0.1834 - val_mse: 0.1834 - val_mae: 0.3150\n",
      "Epoch 4/20\n",
      "200/200 [==============================] - 18s 89ms/step - loss: 0.6224 - mse: 0.6224 - mae: 0.6150 - val_loss: 0.1156 - val_mse: 0.1156 - val_mae: 0.1627\n",
      "Epoch 5/20\n",
      "200/200 [==============================] - 16s 78ms/step - loss: 0.6025 - mse: 0.6025 - mae: 0.6061 - val_loss: 0.1043 - val_mse: 0.1043 - val_mae: 0.1550\n",
      "Epoch 6/20\n",
      "200/200 [==============================] - 17s 88ms/step - loss: 0.5673 - mse: 0.5673 - mae: 0.5850 - val_loss: 0.1299 - val_mse: 0.1299 - val_mae: 0.2470\n",
      "Epoch 7/20\n",
      "200/200 [==============================] - 16s 79ms/step - loss: 0.5498 - mse: 0.5498 - mae: 0.5793 - val_loss: 0.0936 - val_mse: 0.0936 - val_mae: 0.1315\n",
      "Epoch 8/20\n",
      "200/200 [==============================] - 18s 92ms/step - loss: 0.5500 - mse: 0.5500 - mae: 0.5768 - val_loss: 0.0998 - val_mse: 0.0998 - val_mae: 0.1630\n",
      "Epoch 9/20\n",
      "200/200 [==============================] - 18s 92ms/step - loss: 0.5517 - mse: 0.5517 - mae: 0.5793 - val_loss: 0.0869 - val_mse: 0.0869 - val_mae: 0.1164\n",
      "Epoch 10/20\n",
      "200/200 [==============================] - 21s 104ms/step - loss: 0.5327 - mse: 0.5327 - mae: 0.5671 - val_loss: 0.1575 - val_mse: 0.1575 - val_mae: 0.3193\n",
      "Epoch 11/20\n",
      "200/200 [==============================] - 16s 78ms/step - loss: 0.5178 - mse: 0.5178 - mae: 0.5597 - val_loss: 0.1229 - val_mse: 0.1229 - val_mae: 0.2557\n",
      "Epoch 12/20\n",
      "200/200 [==============================] - 19s 93ms/step - loss: 0.5205 - mse: 0.5205 - mae: 0.5618 - val_loss: 0.1088 - val_mse: 0.1088 - val_mae: 0.2191\n",
      "Epoch 13/20\n",
      "200/200 [==============================] - 18s 89ms/step - loss: 0.5023 - mse: 0.5023 - mae: 0.5505 - val_loss: 0.0970 - val_mse: 0.0970 - val_mae: 0.1885\n",
      "Epoch 14/20\n",
      "200/200 [==============================] - 18s 89ms/step - loss: 0.4881 - mse: 0.4881 - mae: 0.5407 - val_loss: 0.1303 - val_mse: 0.1303 - val_mae: 0.2759\n",
      "Epoch 15/20\n",
      "200/200 [==============================] - 19s 97ms/step - loss: 0.4852 - mse: 0.4852 - mae: 0.5416 - val_loss: 0.0787 - val_mse: 0.0787 - val_mae: 0.1417\n",
      "Epoch 16/20\n",
      "200/200 [==============================] - 22s 111ms/step - loss: 0.5065 - mse: 0.5065 - mae: 0.5530 - val_loss: 0.0841 - val_mse: 0.0841 - val_mae: 0.1667\n",
      "Epoch 17/20\n",
      "200/200 [==============================] - 22s 108ms/step - loss: 0.4696 - mse: 0.4696 - mae: 0.5319 - val_loss: 0.1342 - val_mse: 0.1342 - val_mae: 0.2992\n",
      "Epoch 18/20\n",
      "200/200 [==============================] - 19s 95ms/step - loss: 0.4755 - mse: 0.4755 - mae: 0.5327 - val_loss: 0.0717 - val_mse: 0.0717 - val_mae: 0.1198\n",
      "Epoch 19/20\n",
      "200/200 [==============================] - 21s 96ms/step - loss: 0.4510 - mse: 0.4510 - mae: 0.5220 - val_loss: 0.0663 - val_mse: 0.0663 - val_mae: 0.1322\n",
      "Epoch 20/20\n",
      "200/200 [==============================] - 19s 95ms/step - loss: 0.4583 - mse: 0.4583 - mae: 0.5262 - val_loss: 0.0729 - val_mse: 0.0729 - val_mae: 0.1691\n"
     ]
    }
   ],
   "source": [
    "# predictTrain combination of train(x,y) \n",
    "# predictTest combination of test (x,y)\n",
    "# also it has the batch size & buffer size\n",
    "predictTrain = tf.data.Dataset.from_tensor_slices((train_x, train_y))\n",
    "predictTrain = predictTrain.cache().shuffle(buffer_size).batch(batch_size).repeat()\n",
    "\n",
    "predictTest = tf.data.Dataset.from_tensor_slices((test_x, test_y))\n",
    "predictTest = predictTest.batch(batch_size).repeat()\n",
    "\n",
    "history = model.fit(predictTrain, epochs = 20, steps_per_epoch=200, \n",
    "                    validation_data=predictTest, validation_steps=50)"
   ]
  },
  {
   "cell_type": "markdown",
   "id": "b740b0d7",
   "metadata": {},
   "source": [
    "## Evaluation"
   ]
  },
  {
   "cell_type": "code",
   "execution_count": 9,
   "id": "3d33e9b5",
   "metadata": {},
   "outputs": [
    {
     "name": "stdout",
     "output_type": "stream",
     "text": [
      "4/4 [==============================] - 3s 68ms/step - loss: 0.0729 - mse: 0.0729 - mae: 0.1691\n"
     ]
    },
    {
     "data": {
      "text/plain": [
       "[0.07290339469909668, 0.07290339469909668, 0.1690990924835205]"
      ]
     },
     "execution_count": 9,
     "metadata": {},
     "output_type": "execute_result"
    }
   ],
   "source": [
    "model.evaluate(test_x,test_y)\n",
    "# Mean Squared Error (MSE) of 2.91%\n",
    "# Mean Absolute Error (MAE) of 11.12%\n",
    "# Loss of 2.91%"
   ]
  },
  {
   "cell_type": "code",
   "execution_count": 10,
   "id": "fb1aae66",
   "metadata": {},
   "outputs": [
    {
     "data": {
      "text/html": [
       "<div>\n",
       "<style scoped>\n",
       "    .dataframe tbody tr th:only-of-type {\n",
       "        vertical-align: middle;\n",
       "    }\n",
       "\n",
       "    .dataframe tbody tr th {\n",
       "        vertical-align: top;\n",
       "    }\n",
       "\n",
       "    .dataframe thead th {\n",
       "        text-align: right;\n",
       "    }\n",
       "</style>\n",
       "<table border=\"1\" class=\"dataframe\">\n",
       "  <thead>\n",
       "    <tr style=\"text-align: right;\">\n",
       "      <th></th>\n",
       "      <th>loss</th>\n",
       "      <th>mse</th>\n",
       "      <th>mae</th>\n",
       "      <th>val_loss</th>\n",
       "      <th>val_mse</th>\n",
       "      <th>val_mae</th>\n",
       "    </tr>\n",
       "  </thead>\n",
       "  <tbody>\n",
       "    <tr>\n",
       "      <th>0</th>\n",
       "      <td>3.436875</td>\n",
       "      <td>3.436875</td>\n",
       "      <td>1.289620</td>\n",
       "      <td>0.300706</td>\n",
       "      <td>0.300706</td>\n",
       "      <td>0.389646</td>\n",
       "    </tr>\n",
       "    <tr>\n",
       "      <th>1</th>\n",
       "      <td>0.877318</td>\n",
       "      <td>0.877318</td>\n",
       "      <td>0.733793</td>\n",
       "      <td>0.149917</td>\n",
       "      <td>0.149917</td>\n",
       "      <td>0.203597</td>\n",
       "    </tr>\n",
       "    <tr>\n",
       "      <th>2</th>\n",
       "      <td>0.719194</td>\n",
       "      <td>0.719194</td>\n",
       "      <td>0.664590</td>\n",
       "      <td>0.183446</td>\n",
       "      <td>0.183446</td>\n",
       "      <td>0.315021</td>\n",
       "    </tr>\n",
       "    <tr>\n",
       "      <th>3</th>\n",
       "      <td>0.622351</td>\n",
       "      <td>0.622351</td>\n",
       "      <td>0.614953</td>\n",
       "      <td>0.115593</td>\n",
       "      <td>0.115593</td>\n",
       "      <td>0.162710</td>\n",
       "    </tr>\n",
       "    <tr>\n",
       "      <th>4</th>\n",
       "      <td>0.602487</td>\n",
       "      <td>0.602487</td>\n",
       "      <td>0.606066</td>\n",
       "      <td>0.104334</td>\n",
       "      <td>0.104334</td>\n",
       "      <td>0.155025</td>\n",
       "    </tr>\n",
       "  </tbody>\n",
       "</table>\n",
       "</div>"
      ],
      "text/plain": [
       "       loss       mse       mae  val_loss   val_mse   val_mae\n",
       "0  3.436875  3.436875  1.289620  0.300706  0.300706  0.389646\n",
       "1  0.877318  0.877318  0.733793  0.149917  0.149917  0.203597\n",
       "2  0.719194  0.719194  0.664590  0.183446  0.183446  0.315021\n",
       "3  0.622351  0.622351  0.614953  0.115593  0.115593  0.162710\n",
       "4  0.602487  0.602487  0.606066  0.104334  0.104334  0.155025"
      ]
     },
     "execution_count": 10,
     "metadata": {},
     "output_type": "execute_result"
    }
   ],
   "source": [
    "hist = pd.DataFrame(history.history)\n",
    "hist.head() # here is the 5 rows of training result "
   ]
  },
  {
   "cell_type": "code",
   "execution_count": 11,
   "id": "d857b426",
   "metadata": {},
   "outputs": [
    {
     "data": {
      "text/plain": [
       "<matplotlib.legend.Legend at 0x2b288fc0e50>"
      ]
     },
     "execution_count": 11,
     "metadata": {},
     "output_type": "execute_result"
    },
    {
     "data": {
      "image/png": "[encoded data removed]",
      "text/plain": [
       "<Figure size 640x480 with 1 Axes>"
      ]
     },
     "metadata": {},
     "output_type": "display_data"
    }
   ],
   "source": [
    "plt.plot(history.history['loss'], label='train loss')\n",
    "plt.plot(history.history['val_loss'], label='val loss')\n",
    "plt.xlabel(\"epoch\")\n",
    "plt.ylabel(\"Loss\")\n",
    "plt.legend()\n",
    "# Graph of train loss and validation loss"
   ]
  },
  {
   "cell_type": "markdown",
   "id": "127fb58c",
   "metadata": {},
   "source": [
    "## Prediction"
   ]
  },
  {
   "cell_type": "code",
   "execution_count": 12,
   "id": "088b3bbe",
   "metadata": {},
   "outputs": [
    {
     "name": "stdout",
     "output_type": "stream",
     "text": [
      "7/7 [==============================] - 3s 371ms/step\n",
      "7/7 [==============================] - 0s 10ms/step\n",
      "3/3 [==============================] - 0s 82ms/step\n",
      "7/7 [==============================] - 0s 11ms/step\n",
      "7/7 [==============================] - 0s 9ms/step\n",
      "3/3 [==============================] - 0s 12ms/step\n",
      "7/7 [==============================] - 0s 10ms/step\n",
      "7/7 [==============================] - 0s 8ms/step\n",
      "3/3 [==============================] - 0s 10ms/step\n",
      "7/7 [==============================] - 0s 8ms/step\n",
      "7/7 [==============================] - 0s 9ms/step\n",
      "3/3 [==============================] - 0s 14ms/step\n",
      "7/7 [==============================] - 0s 13ms/step\n",
      "7/7 [==============================] - 0s 10ms/step\n",
      "3/3 [==============================] - 0s 13ms/step\n",
      "7/7 [==============================] - 0s 8ms/step\n",
      "7/7 [==============================] - 0s 8ms/step\n",
      "3/3 [==============================] - 0s 9ms/step\n",
      "7/7 [==============================] - 0s 9ms/step\n",
      "7/7 [==============================] - 0s 11ms/step\n"
     ]
    }
   ],
   "source": [
    "# Predict stock values after model is trained. \n",
    "# We keep the predicted values and target values for visual presentation.\n",
    "# Run predictTrain or predictTest to check the preformance.\n",
    "predicted_value = []\n",
    "y_orig = []\n",
    "count =0;\n",
    "for x, y in predictTrain.take(20):\n",
    "    y_orig.append(y[0].numpy())\n",
    "    t_pred= model.predict(x)\n",
    "    predicted_value.append(t_pred[0])"
   ]
  },
  {
   "cell_type": "code",
   "execution_count": 13,
   "id": "d2feb496",
   "metadata": {},
   "outputs": [
    {
     "data": {
      "text/plain": [
       "<AxesSubplot:>"
      ]
     },
     "execution_count": 13,
     "metadata": {},
     "output_type": "execute_result"
    },
    {
     "data": {
      "image/png": "[encoded data removed]",
      "text/plain": [
       "<Figure size 640x480 with 1 Axes>"
      ]
     },
     "metadata": {},
     "output_type": "display_data"
    }
   ],
   "source": [
    "# Plot the predicted value and the target values together.\n",
    "y_pred = [predicted_value[i][0] for i in range(len(predicted_value))]\n",
    "result = pd.DataFrame({'predicted':y_pred, 'target':y_orig})\n",
    "result.plot()"
   ]
  }
 ],
 "metadata": {
  "kernelspec": {
   "display_name": "Python 3 (ipykernel)",
   "language": "python",
   "name": "python3"
  },
  "language_info": {
   "codemirror_mode": {
    "name": "ipython",
    "version": 3
   },
   "file_extension": ".py",
   "mimetype": "text/x-python",
   "name": "python",
   "nbconvert_exporter": "python",
   "pygments_lexer": "ipython3",
   "version": "3.9.13"
  }
 },
 "nbformat": 4,
 "nbformat_minor": 5
}
